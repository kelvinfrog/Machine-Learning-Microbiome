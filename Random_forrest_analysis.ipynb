{
 "cells": [
  {
   "cell_type": "markdown",
   "metadata": {},
   "source": [
    "# Random Forrest analysis to predict age of manure using microbiome profile"
   ]
  },
  {
   "cell_type": "markdown",
   "metadata": {},
   "source": [
    "(1) I downloaded and loaded the require R package "
   ]
  },
  {
   "cell_type": "code",
   "execution_count": 17,
   "metadata": {
    "collapsed": false
   },
   "outputs": [
    {
     "name": "stderr",
     "output_type": "stream",
     "text": [
      "also installing the dependencies ‘bindr’, ‘bindrcpp’, ‘glue’, ‘pkgconfig’, ‘rlang’, ‘tibble’, ‘plogr’\n",
      "\n"
     ]
    }
   ],
   "source": [
    "#install require packages\n",
    "install.packages(\"colorRamps\")\n",
    "install.packages(\"RColorBrewer\")\n",
    "install.packages(\"randomForest\")\n",
    "install.packages(\"e1071\")\n",
    "install.packages(\"pROC\")\n",
    "install.packages(\"dplyr\")\n",
    "install.packages(\"ggplot2\")"
   ]
  },
  {
   "cell_type": "code",
   "execution_count": 32,
   "metadata": {
    "collapsed": false
   },
   "outputs": [
    {
     "name": "stderr",
     "output_type": "stream",
     "text": [
      "\n",
      "Attaching package: ‘data.table’\n",
      "\n",
      "The following objects are masked from ‘package:dplyr’:\n",
      "\n",
      "    between, first, last\n",
      "\n"
     ]
    }
   ],
   "source": [
    "#load the packages\n",
    "library(\"car\")\n",
    "library(\"colorRamps\")\n",
    "library(\"RColorBrewer\")\n",
    "library(randomForest)\n",
    "library(e1071)\n",
    "library(pROC)\n",
    "library(\"dplyr\")\n",
    "library(\"ggplot2\")\n",
    "library(\"data.table\")"
   ]
  },
  {
   "cell_type": "markdown",
   "metadata": {},
   "source": [
    "(2) upload the datafile and then assign four different periods according to the days of manure. "
   ]
  },
  {
   "cell_type": "code",
   "execution_count": 12,
   "metadata": {
    "collapsed": true
   },
   "outputs": [],
   "source": [
    "#Load the dataset and clean the \n",
    "class.abun <- read.csv(\"~/Dropbox/EPA_transfer_files/Rarefaction curve_2/NMDS.csv\")\n",
    "class.abun[is.na(class.abun)] <- 0 #change na to 0\n",
    "class.abun$period <- class.abun$Day #create period column\n",
    "\n",
    "#group day to period\n",
    "class.abun <- read.csv(\"~/Dropbox/EPA_transfer_files/Rarefaction curve_2/NMDS.csv\")\n",
    "class.abun[is.na(class.abun)] <- 0 #change na to 0\n",
    "class.abun$period[class.abun$Day == 0] <- \"period1\"\n",
    "class.abun$period[class.abun$Day >0 & class.abun$Day < 22] <- \"period2\"\n",
    "class.abun$period[class.abun$Day >=22 & class.abun$Day <=29] <- \"period3\"\n",
    "class.abun$period[class.abun$Day >=43 & class.abun$Day <=57] <- \"period4\"\n",
    "class.abun$period <- as.factor(class.abun$period)#covert class.abun$period to factor\n",
    "class.abun <- droplevels(class.abun)"
   ]
  },
  {
   "cell_type": "markdown",
   "metadata": {},
   "source": [
    "(3) split the data between training and testing set. Then, run the random forest model and calcuate accuracy and ROC curves "
   ]
  },
  {
   "cell_type": "code",
   "execution_count": 107,
   "metadata": {
    "collapsed": false
   },
   "outputs": [
    {
     "data": {
      "text/html": [
       "0.789473684210526"
      ],
      "text/latex": [
       "0.789473684210526"
      ],
      "text/markdown": [
       "0.789473684210526"
      ],
      "text/plain": [
       "[1] 0.7894737"
      ]
     },
     "metadata": {},
     "output_type": "display_data"
    },
    {
     "data": {
      "text/plain": [
       "         p\n",
       "          period1 period2 period3 period4\n",
       "  period1       2       0       0       0\n",
       "  period2       0       9       1       1\n",
       "  period3       0       1       1       0\n",
       "  period4       0       0       1       3"
      ]
     },
     "metadata": {},
     "output_type": "display_data"
    },
    {
     "data": {
      "text/plain": [
       "\n",
       "Call:\n",
       "multiclass.roc.default(response = as.numeric(class.test$period),     predictor = p)\n",
       "\n",
       "Data: p with 4 levels of as.numeric(class.test$period): 1, 2, 3, 4.\n",
       "Multi-class area under the curve: 0.9176"
      ]
     },
     "metadata": {},
     "output_type": "display_data"
    },
    {
     "data": {
      "text/html": [
       "<table>\n",
       "<thead><tr><th></th><th scope=col>MeanDecreaseGini</th></tr></thead>\n",
       "<tbody>\n",
       "\t<tr><th scope=row>Actinobacteria</th><td>4.565056</td></tr>\n",
       "\t<tr><th scope=row>Bacteroidia</th><td>4.221028</td></tr>\n",
       "\t<tr><th scope=row>Flavobacteria</th><td>2.413677</td></tr>\n",
       "\t<tr><th scope=row>Sphingobacteria</th><td>1.533641</td></tr>\n",
       "\t<tr><th scope=row>Unclassified.Bacteroidetes</th><td>1.266017</td></tr>\n",
       "\t<tr><th scope=row>Bacilli</th><td>1.841608</td></tr>\n",
       "\t<tr><th scope=row>Clostridia</th><td>5.452743</td></tr>\n",
       "\t<tr><th scope=row>Unclassified.Firmicutes</th><td>4.029616</td></tr>\n",
       "\t<tr><th scope=row>Alphaproteobacteria</th><td>2.481050</td></tr>\n",
       "\t<tr><th scope=row>Betaproteobacteria</th><td>2.652066</td></tr>\n",
       "\t<tr><th scope=row>Deltaproteobacteria</th><td>1.360560</td></tr>\n",
       "\t<tr><th scope=row>Gammaproteobacteria</th><td>2.285218</td></tr>\n",
       "\t<tr><th scope=row>Unclassified.Proteobacteria</th><td>1.048896</td></tr>\n",
       "\t<tr><th scope=row>Others</th><td>2.980193</td></tr>\n",
       "\t<tr><th scope=row>Unclassified</th><td>1.262964</td></tr>\n",
       "</tbody>\n",
       "</table>\n"
      ],
      "text/latex": [
       "\\begin{tabular}{r|l}\n",
       "  & MeanDecreaseGini\\\\\n",
       "\\hline\n",
       "\tActinobacteria & 4.565056\\\\\n",
       "\tBacteroidia & 4.221028\\\\\n",
       "\tFlavobacteria & 2.413677\\\\\n",
       "\tSphingobacteria & 1.533641\\\\\n",
       "\tUnclassified.Bacteroidetes & 1.266017\\\\\n",
       "\tBacilli & 1.841608\\\\\n",
       "\tClostridia & 5.452743\\\\\n",
       "\tUnclassified.Firmicutes & 4.029616\\\\\n",
       "\tAlphaproteobacteria & 2.481050\\\\\n",
       "\tBetaproteobacteria & 2.652066\\\\\n",
       "\tDeltaproteobacteria & 1.360560\\\\\n",
       "\tGammaproteobacteria & 2.285218\\\\\n",
       "\tUnclassified.Proteobacteria & 1.048896\\\\\n",
       "\tOthers & 2.980193\\\\\n",
       "\tUnclassified & 1.262964\\\\\n",
       "\\end{tabular}\n"
      ],
      "text/markdown": [
       "\n",
       "| <!--/--> | MeanDecreaseGini | \n",
       "|---|---|---|---|---|---|---|---|---|---|---|---|---|---|---|\n",
       "| Actinobacteria | 4.565056 | \n",
       "| Bacteroidia | 4.221028 | \n",
       "| Flavobacteria | 2.413677 | \n",
       "| Sphingobacteria | 1.533641 | \n",
       "| Unclassified.Bacteroidetes | 1.266017 | \n",
       "| Bacilli | 1.841608 | \n",
       "| Clostridia | 5.452743 | \n",
       "| Unclassified.Firmicutes | 4.029616 | \n",
       "| Alphaproteobacteria | 2.481050 | \n",
       "| Betaproteobacteria | 2.652066 | \n",
       "| Deltaproteobacteria | 1.360560 | \n",
       "| Gammaproteobacteria | 2.285218 | \n",
       "| Unclassified.Proteobacteria | 1.048896 | \n",
       "| Others | 2.980193 | \n",
       "| Unclassified | 1.262964 | \n",
       "\n",
       "\n"
      ],
      "text/plain": [
       "                            MeanDecreaseGini\n",
       "Actinobacteria              4.565056        \n",
       "Bacteroidia                 4.221028        \n",
       "Flavobacteria               2.413677        \n",
       "Sphingobacteria             1.533641        \n",
       "Unclassified.Bacteroidetes  1.266017        \n",
       "Bacilli                     1.841608        \n",
       "Clostridia                  5.452743        \n",
       "Unclassified.Firmicutes     4.029616        \n",
       "Alphaproteobacteria         2.481050        \n",
       "Betaproteobacteria          2.652066        \n",
       "Deltaproteobacteria         1.360560        \n",
       "Gammaproteobacteria         2.285218        \n",
       "Unclassified.Proteobacteria 1.048896        \n",
       "Others                      2.980193        \n",
       "Unclassified                1.262964        "
      ]
     },
     "metadata": {},
     "output_type": "display_data"
    }
   ],
   "source": [
    "set.seed(42)\n",
    "\n",
    "#random forest model\n",
    "#prepare train and test data\n",
    "num.total = 79\n",
    "num.train = 60\n",
    "\n",
    "s <- sample(num.total, num.train)\n",
    "class.train <- class.abun[s, 3:18]\n",
    "class.test <- class.abun[-s, 3:18]\n",
    "\n",
    "rfm <- randomForest(period ~., class.train) #create model using train data\n",
    "p <- predict(rfm, class.test) #predict using test data\n",
    "mean(class.test$period==p) #accuracy\n",
    "table(class.test$period, p) #accuracy table\n",
    "\n",
    "p <- as.numeric(predict(rfm, class.test, type = 'response'))#prediction and convert to numeric for ROC analysis\n",
    "multiclass.roc(as.numeric(class.test$period), p)#calculate average area under multiple ROC curves\n",
    "\n",
    "importance(rfm)"
   ]
  },
  {
   "cell_type": "markdown",
   "metadata": {},
   "source": [
    "(4) "
   ]
  },
  {
   "cell_type": "code",
   "execution_count": 108,
   "metadata": {
    "collapsed": false
   },
   "outputs": [],
   "source": [
    "set.seed(42)\n",
    "\n",
    "# Iteration over number of random forest and training data set\n",
    "x =500 # x = number of iteration \n",
    "division <- 60 # division = number of training data \n",
    "\n",
    "acc.list <- rep(0,x)\n",
    "average.acc.list <- c()\n",
    "sd.average.acc.list <- c()\n",
    "\n",
    "roc.list <- rep(0,x)\n",
    "average.roc.list <- c()\n",
    "sd.average.roc.list <- c()\n",
    "\n",
    "#Select abundance data from the follwing bacteria for analysis \n",
    "m <- c(\"Actinobacteria\", \"Bacteroidia\", \"Flavobacteria\", \"Sphingobacteria\", \n",
    "       \"Unclassified.Bacteroidetes\", \"Bacilli\" ,\"Clostridia\" ,\"Unclassified.Firmicutes\",   \n",
    "      \"Alphaproteobacteria\", \"Betaproteobacteria\", \"Deltaproteobacteria\", \"Gammaproteobacteria\",\n",
    "      \"Unclassified.Proteobacteria\", \"Others\", \"Unclassified\")\n",
    "m <- data.frame(names = m, MeanDecreaseGini=c(rep(0, 15)))\n",
    "\n",
    "  \n",
    "for (j in division){\n",
    "   for (i in 1:x){\n",
    "      s <- sample(79, j)\n",
    "      class.train <- class.abun[s, 3:18]\n",
    "      class.test <- class.abun[-s, 3:18]\n",
    "      rfm <- randomForest(period ~., class.train) #create model using train data\n",
    "      \n",
    "      p <- predict(rfm, class.test) #predict using test data\n",
    "      acc = mean(class.test$period==p) #calculate accuracy\n",
    "      acc.list[i] = acc\n",
    "      \n",
    "      p <- as.numeric(predict(rfm, class.test, type = 'response')) #prediction and convert to numeric for ROC analysis\n",
    "      roc = as.numeric(multiclass.roc(as.numeric(class.test$period), p)[7]) #calculate ROC\n",
    "      roc.list[i] = roc\n",
    "       \n",
    "      s[[i]] <- as.data.frame(importance(rfm), stringsAsFactors = FALSE)\n",
    "      names <- rownames(s[[i]])\n",
    "      rownames(s[[i]]) <- NULL\n",
    "      s[[i]] <- cbind(names,s[[i]])\n",
    "      m <- full_join(m, s[[i]], by=\"names\")   \n",
    "   }\n",
    "  average.acc = sum(acc.list)/x\n",
    "  average.acc.list = append(average.acc.list, average.acc)\n",
    "  sd.average.acc.list = append(sd.average.acc.list, sd(acc.list))\n",
    "\n",
    "  average.roc = sum(roc.list)/x\n",
    "  average.roc.list = append(average.roc.list, average.roc)\n",
    "  sd.average.roc.list = append(sd.average.roc.list, sd(roc.list))\n",
    "    \n",
    "}\n",
    "\n",
    "\n",
    "m$mean <- rowMeans(m[, 3:(x+2)])\n",
    "m$std <- m[, 3:(x+2)] %>% apply(1, sd, na.rm = TRUE) \n",
    "importance.table = select(m, names, mean, std)"
   ]
  },
  {
   "cell_type": "code",
   "execution_count": 109,
   "metadata": {
    "collapsed": false
   },
   "outputs": [
    {
     "data": {
      "text/html": [
       "'The average ACC is: 0.769684'"
      ],
      "text/latex": [
       "'The average ACC is: 0.769684'"
      ],
      "text/markdown": [
       "'The average ACC is: 0.769684'"
      ],
      "text/plain": [
       "[1] \"The average ACC is: 0.769684\""
      ]
     },
     "metadata": {},
     "output_type": "display_data"
    },
    {
     "data": {
      "text/html": [
       "'The standard deviation of ACC is: 0.092380 '"
      ],
      "text/latex": [
       "'The standard deviation of ACC is: 0.092380 '"
      ],
      "text/markdown": [
       "'The standard deviation of ACC is: 0.092380 '"
      ],
      "text/plain": [
       "[1] \"The standard deviation of ACC is: 0.092380 \""
      ]
     },
     "metadata": {},
     "output_type": "display_data"
    },
    {
     "data": {
      "text/html": [
       "'The average ROC is: 0.919448'"
      ],
      "text/latex": [
       "'The average ROC is: 0.919448'"
      ],
      "text/markdown": [
       "'The average ROC is: 0.919448'"
      ],
      "text/plain": [
       "[1] \"The average ROC is: 0.919448\""
      ]
     },
     "metadata": {},
     "output_type": "display_data"
    },
    {
     "data": {
      "text/html": [
       "'The standard deviation of ROC is: 0.044773 '"
      ],
      "text/latex": [
       "'The standard deviation of ROC is: 0.044773 '"
      ],
      "text/markdown": [
       "'The standard deviation of ROC is: 0.044773 '"
      ],
      "text/plain": [
       "[1] \"The standard deviation of ROC is: 0.044773 \""
      ]
     },
     "metadata": {},
     "output_type": "display_data"
    }
   ],
   "source": [
    "sprintf(\"The average ACC is: %f\", average.acc.list)\n",
    "sprintf(\"The standard deviation of ACC is: %f \", sd.average.acc.list)\n",
    "\n",
    "sprintf(\"The average ROC is: %f\", average.roc.list)\n",
    "sprintf(\"The standard deviation of ROC is: %f \", sd.average.roc.list)"
   ]
  },
  {
   "cell_type": "code",
   "execution_count": 110,
   "metadata": {
    "collapsed": false
   },
   "outputs": [
    {
     "data": {},
     "metadata": {},
     "output_type": "display_data"
    },
    {
     "data": {
      "image/png": "[encoded data removed]",
      "text/plain": [
       "plot without title"
      ]
     },
     "metadata": {},
     "output_type": "display_data"
    }
   ],
   "source": [
    "importance.table2 <- importance.table\n",
    "importance.table2 <- importance.table2[order(importance.table2$names), ] \n",
    "\n",
    "# Error bars represent standard error of the mean\n",
    "ggplot(importance.table2, aes(x=names, y=mean, fill = names)) + \n",
    "    geom_bar(position=position_dodge(), stat=\"identity\") +\n",
    "    geom_errorbar(aes(ymin=mean-std, ymax=mean+std),\n",
    "                  width=.2,                    # Width of the error bars\n",
    "                  position=position_dodge(.9)) +\n",
    "    theme(axis.text.x = element_text(angle = 45, hjust = 1)) +\n",
    "    theme(legend.position=\"none\") +\n",
    "    labs(x = \"Bacteria species\", y = \"Importance\") "
   ]
  },
  {
   "cell_type": "code",
   "execution_count": null,
   "metadata": {
    "collapsed": true
   },
   "outputs": [],
   "source": []
  }
 ],
 "metadata": {
  "anaconda-cloud": {},
  "kernelspec": {
   "display_name": "R [conda env:py35]",
   "language": "R",
   "name": "conda-env-py35-r"
  },
  "language_info": {
   "codemirror_mode": "r",
   "file_extension": ".r",
   "mimetype": "text/x-r-source",
   "name": "R",
   "pygments_lexer": "r",
   "version": "3.3.2"
  }
 },
 "nbformat": 4,
 "nbformat_minor": 2
}
